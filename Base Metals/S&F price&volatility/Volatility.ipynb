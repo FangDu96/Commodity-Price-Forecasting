{
 "cells": [
  {
   "cell_type": "code",
   "execution_count": 10,
   "metadata": {},
   "outputs": [],
   "source": [
    "import numpy as np\n",
    "import xlrd\n",
    "import xlwt\n",
    "import math"
   ]
  },
  {
   "cell_type": "code",
   "execution_count": 55,
   "metadata": {},
   "outputs": [],
   "source": [
    "spot = xlrd.open_workbook('Zinc_spot.xlsx')\n",
    "futures = xlrd.open_workbook('ZInc_3_futures.xlsx')"
   ]
  },
  {
   "cell_type": "code",
   "execution_count": 56,
   "metadata": {},
   "outputs": [],
   "source": [
    "tables = spot.sheets()[0]\n",
    "tablef = futures.sheets()[0]"
   ]
  },
  {
   "cell_type": "code",
   "execution_count": 57,
   "metadata": {},
   "outputs": [],
   "source": [
    "num_of_rows_spot = tables.nrows\n",
    "num_of_rows_futures = tablef.nrows"
   ]
  },
  {
   "cell_type": "code",
   "execution_count": 58,
   "metadata": {},
   "outputs": [],
   "source": [
    "y = 2019\n",
    "m  = 4\n",
    "i = 0\n",
    "j = 1\n",
    "spot_price_tmp = []\n",
    "spot_vol = {}\n",
    "log_return_tmp = []\n",
    "while i < num_of_rows_spot:\n",
    "    tup = xlrd.xldate_as_tuple(tables.cell(i,0).value, 0)\n",
    "    yi = tup[0]\n",
    "    mi = tup[1]\n",
    "    #di = tup[2]\n",
    "    #print(yi, mi, di)\n",
    "    if (yi == y and mi == m):\n",
    "        spot_price_tmp.append(tables.cell(i,1).value)\n",
    "        i = i+1\n",
    "    else:\n",
    "        tmp = str(y)+\"/\"+str(m)\n",
    "        #print(spot_price_tmp)\n",
    "        while j < len(spot_price_tmp):\n",
    "            log_return_tmp.append(math.log(spot_price_tmp[j-1]/spot_price_tmp[j]))\n",
    "            j = j+1\n",
    "        #print(log_return_tmp)\n",
    "        spot_vol[tmp] = np.std(log_return_tmp)*math.sqrt(252)\n",
    "        spot_price_tmp.clear()\n",
    "        log_return_tmp.clear()\n",
    "        m = m-1\n",
    "        j = 1\n",
    "        if m == 0:\n",
    "            y = y -1\n",
    "            m = 12\n",
    "\n",
    "y = 2019\n",
    "m = 4\n",
    "spot_price_tmp = []\n",
    "log_return_tmp = []\n",
    "i=0           \n",
    "futures_vol = {}\n",
    "while i < num_of_rows_futures:\n",
    "    tup = xlrd.xldate_as_tuple(tablef.cell(i,0).value, 0)\n",
    "    yi = tup[0]\n",
    "    mi = tup[1]\n",
    "    #di = tup[2]\n",
    "    #print(yi, mi, di)\n",
    "    if (yi == y and mi == m):\n",
    "        spot_price_tmp.append(tablef.cell(i,1).value)\n",
    "        i = i+1\n",
    "    else:\n",
    "        tmp = str(y)+\"/\"+str(m)\n",
    "        #print(spot_price_tmp)\n",
    "        while j < len(spot_price_tmp):\n",
    "            log_return_tmp.append(math.log(spot_price_tmp[j-1]/spot_price_tmp[j]))\n",
    "            j = j+1\n",
    "        #print(tmp)\n",
    "        #print(log_return_tmp)\n",
    "        futures_vol[tmp] = np.std(log_return_tmp)*math.sqrt(252)\n",
    "        spot_price_tmp.clear()\n",
    "        log_return_tmp.clear()\n",
    "        m = m-1\n",
    "        j = 1\n",
    "        if m == 0:\n",
    "            y = y -1\n",
    "            m = 12\n",
    "\n",
    "excess_vol = {}\n",
    "for d in spot_vol:\n",
    "    excess_vol[d] = (spot_vol[d]-futures_vol[d])/futures_vol[d]"
   ]
  },
  {
   "cell_type": "code",
   "execution_count": 59,
   "metadata": {},
   "outputs": [],
   "source": [
    "book = xlwt.Workbook()\n",
    "sheet = book.add_sheet('volatility')\n",
    "row = 1\n",
    "sheet.write(0,1,\"spot\")\n",
    "sheet.write(0,2,\"futures\")\n",
    "sheet.write(0,3,\"excess\")\n",
    "for d in spot_vol:\n",
    "    sheet.write(row,0,d)\n",
    "    sheet.write(row,1,spot_vol[d])\n",
    "    sheet.write(row,2,futures_vol[d])\n",
    "    sheet.write(row,3,excess_vol[d])\n",
    "    row = row +1\n",
    "\n",
    "book.save('Zinc volatility.xls')"
   ]
  }
 ],
 "metadata": {
  "kernelspec": {
   "display_name": "Python 3",
   "language": "python",
   "name": "python3"
  },
  "language_info": {
   "codemirror_mode": {
    "name": "ipython",
    "version": 3
   },
   "file_extension": ".py",
   "mimetype": "text/x-python",
   "name": "python",
   "nbconvert_exporter": "python",
   "pygments_lexer": "ipython3",
   "version": "3.6.5"
  }
 },
 "nbformat": 4,
 "nbformat_minor": 2
}
