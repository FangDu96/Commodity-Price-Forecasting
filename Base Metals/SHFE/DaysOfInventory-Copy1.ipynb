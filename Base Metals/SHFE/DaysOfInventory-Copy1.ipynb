{
 "cells": [
  {
   "cell_type": "code",
   "execution_count": 1,
   "metadata": {},
   "outputs": [],
   "source": [
    "import numpy\n",
    "import xlrd"
   ]
  },
  {
   "cell_type": "code",
   "execution_count": 52,
   "metadata": {},
   "outputs": [],
   "source": [
    "consumption = xlrd.open_workbook('Zinc Consumption.xlsx')\n",
    "inventory = xlrd.open_workbook('SHFZZIND Index -zinc inventroy.xlsx')"
   ]
  },
  {
   "cell_type": "code",
   "execution_count": 53,
   "metadata": {},
   "outputs": [],
   "source": [
    "tablec = consumption.sheets()[0]\n",
    "tablei = inventory.sheets()[0]"
   ]
  },
  {
   "cell_type": "code",
   "execution_count": 54,
   "metadata": {},
   "outputs": [],
   "source": [
    "num_of_rows_consumption = tablec.nrows\n",
    "num_of_rows_inventory = tablei.nrows"
   ]
  },
  {
   "cell_type": "code",
   "execution_count": 55,
   "metadata": {},
   "outputs": [],
   "source": [
    "i = 0\n",
    "j = 0\n",
    "write = []\n",
    "flag = 0\n",
    "while i < num_of_rows_inventory:\n",
    "    tup = xlrd.xldate_as_tuple(tablei.cell(i,0).value, 0)\n",
    "    yi = tup[0]\n",
    "    mi = tup[1]\n",
    "    #print('inventory',yi,mi)\n",
    "    inv = tablei.cell(i,1).value\n",
    "    while j < num_of_rows_consumption:\n",
    "        tup1 = xlrd.xldate_as_tuple(tablec.cell(j,0).value, 0)\n",
    "        yc = tup1[0]\n",
    "        mc = tup1[1]\n",
    "        #print(yc,mc)\n",
    "        consum = tablec.cell(j,1).value/30\n",
    "        if (yc == yi and mc == mi):\n",
    "            flag = 1\n",
    "            break\n",
    "        j = j+1\n",
    "    if flag == 1:\n",
    "        write.append(inv/consum)\n",
    "    else:\n",
    "        write.append(0)\n",
    "        j = 0\n",
    "    i = i+1\n",
    "        \n",
    "#print(write)\n",
    "    "
   ]
  },
  {
   "cell_type": "code",
   "execution_count": 56,
   "metadata": {},
   "outputs": [],
   "source": [
    "import xlwt"
   ]
  },
  {
   "cell_type": "code",
   "execution_count": 57,
   "metadata": {},
   "outputs": [],
   "source": [
    "book = xlwt.Workbook()\n",
    "sheet = book.add_sheet('Zinc days')\n",
    "row = 0\n",
    "for w in write:\n",
    "    sheet.write(row,0,w)\n",
    "    row = row +1\n",
    "book.save('Zinc Days.xls')"
   ]
  },
  {
   "cell_type": "code",
   "execution_count": null,
   "metadata": {},
   "outputs": [],
   "source": []
  }
 ],
 "metadata": {
  "kernelspec": {
   "display_name": "Python 3",
   "language": "python",
   "name": "python3"
  },
  "language_info": {
   "codemirror_mode": {
    "name": "ipython",
    "version": 3
   },
   "file_extension": ".py",
   "mimetype": "text/x-python",
   "name": "python",
   "nbconvert_exporter": "python",
   "pygments_lexer": "ipython3",
   "version": "3.6.5"
  }
 },
 "nbformat": 4,
 "nbformat_minor": 2
}
