{
 "cells": [
  {
   "cell_type": "code",
   "execution_count": 1,
   "metadata": {},
   "outputs": [],
   "source": [
    "import numpy\n",
    "import xlrd\n",
    "import xlwt"
   ]
  },
  {
   "cell_type": "code",
   "execution_count": 23,
   "metadata": {},
   "outputs": [],
   "source": [
    "inventory = xlrd.open_workbook('SSNWNICD Index -Tin inventroy.xlsx')"
   ]
  },
  {
   "cell_type": "code",
   "execution_count": 24,
   "metadata": {},
   "outputs": [],
   "source": [
    "tablei = inventory.sheets()[0]\n",
    "num_of_rows_inventory = tablei.nrows"
   ]
  },
  {
   "cell_type": "code",
   "execution_count": 25,
   "metadata": {},
   "outputs": [
    {
     "name": "stdout",
     "output_type": "stream",
     "text": [
      "2018 8 30\n",
      "5.681312830791395\n",
      "2018 7 26\n",
      "6.41968153254835\n",
      "2018 6 28\n",
      "7.533190160093713\n",
      "2018 5 31\n",
      "6.697392512153544\n",
      "2018 4 26\n",
      "5.775508055175318\n",
      "2018 3 29\n",
      "4.182963007810135\n",
      "2018 2 22\n",
      "5.827560481722264\n",
      "2018 1 25\n",
      "4.293161226262877\n",
      "2017 12 28\n",
      "4.883744038155803\n",
      "2017 11 30\n",
      "7.351356646096582\n",
      "2017 10 26\n",
      "9.299330570608861\n",
      "2017 9 28\n",
      "7.523047127178826\n",
      "2017 8 31\n",
      "10.831741684385022\n",
      "2017 7 27\n",
      "8.59271523178808\n",
      "2017 6 29\n",
      "4.716998783796426\n",
      "2017 5 25\n",
      "3.583215464403583\n",
      "2017 4 27\n",
      "2.041269547515499\n",
      "2017 3 30\n",
      "1.7912165751726579\n",
      "2017 2 23\n",
      "2.259805910069585\n",
      "2017 1 26\n",
      "3.077588693394866\n",
      "2016 12 29\n",
      "2.262914898926878\n",
      "2016 11 24\n",
      "1.6985333412505195\n",
      "2016 10 27\n",
      "1.7726010490589326\n",
      "2016 9 29\n",
      "2.575172023753417\n",
      "2016 8 25\n",
      "1.9252002425248111\n",
      "2016 7 28\n",
      "3.0180150455325325\n",
      "2016 6 30\n",
      "2.687409024745269\n",
      "2016 5 26\n",
      "3.035819720527455\n",
      "2016 4 28\n",
      "1.6226591760299625\n",
      "2016 3 31\n",
      "0.7033527696793004\n",
      "2016 2 25\n",
      "0.4328304004754201\n",
      "2016 1 28\n",
      "0.41686359769354375\n",
      "2015 12 31\n",
      "0.7645895153313551\n",
      "2015 11 26\n",
      "1.0440722068629047\n",
      "2015 10 29\n",
      "1.2436935740839086\n",
      "2015 9 24\n",
      "0.9632437778144058\n",
      "2015 8 27\n",
      "0.9274537695590327\n",
      "2015 7 30\n",
      "1.1562063703366992\n",
      "2015 6 25\n",
      "0.6950197919543405\n",
      "2015 5 28\n",
      "1.05700831580002\n",
      "2015 4 30\n",
      "0.7562942241237453\n"
     ]
    }
   ],
   "source": [
    "i = 1\n",
    "y = 2018\n",
    "m = 8\n",
    "inv = {}\n",
    "while i < num_of_rows_inventory:\n",
    "    tup = xlrd.xldate_as_tuple(tablei.cell(i,0).value, 0)\n",
    "    yi = tup[0]\n",
    "    mi = tup[1]\n",
    "    if y == yi and m == mi:\n",
    "        date = str(y)+'/'+str(m)\n",
    "        print(tup[0],tup[1],tup[2])\n",
    "        inv[date] = tablei.cell(i,2).value\n",
    "        print(inv[date])\n",
    "        if m == 1:\n",
    "            y = y-1\n",
    "            m = 12\n",
    "        else:\n",
    "            m = m-1\n",
    "    i = i+1"
   ]
  },
  {
   "cell_type": "code",
   "execution_count": 26,
   "metadata": {},
   "outputs": [],
   "source": [
    "book = xlwt.Workbook()\n",
    "sheet = book.add_sheet('Tin days')\n",
    "row = 0\n",
    "for d in inv:\n",
    "    sheet.write(row,0,d)\n",
    "    sheet.write(row,1,inv[d])\n",
    "    row = row +1\n",
    "book.save('Tin Days.xls')"
   ]
  },
  {
   "cell_type": "code",
   "execution_count": null,
   "metadata": {},
   "outputs": [],
   "source": []
  }
 ],
 "metadata": {
  "kernelspec": {
   "display_name": "Python 3",
   "language": "python",
   "name": "python3"
  },
  "language_info": {
   "codemirror_mode": {
    "name": "ipython",
    "version": 3
   },
   "file_extension": ".py",
   "mimetype": "text/x-python",
   "name": "python",
   "nbconvert_exporter": "python",
   "pygments_lexer": "ipython3",
   "version": "3.6.5"
  }
 },
 "nbformat": 4,
 "nbformat_minor": 2
}
